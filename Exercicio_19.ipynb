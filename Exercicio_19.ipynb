{
  "nbformat": 4,
  "nbformat_minor": 0,
  "metadata": {
    "colab": {
      "provenance": []
    },
    "kernelspec": {
      "name": "python3",
      "display_name": "Python 3"
    },
    "language_info": {
      "name": "python"
    }
  },
  "cells": [
    {
      "cell_type": "markdown",
      "source": [
        "8. Faça um programa que solicite ao usuário números indefinidamente até que ele\n",
        "digite 0. Em seguida, o programa deve imprimir a média dos números digitados."
      ],
      "metadata": {
        "id": "bW4LafnVxybg"
      }
    },
    {
      "cell_type": "code",
      "execution_count": null,
      "metadata": {
        "id": "tnVakB3hxv48"
      },
      "outputs": [],
      "source": [
        "soma= 0\n",
        "contador= 0\n",
        "n = int(input(f\"Insira o {contador+1} valor: \"))\n",
        "while n != 0:\n",
        "  soma += n\n",
        "  contador += 1\n",
        "  media= soma/contador\n",
        "  n = int(input(\"Insira o valor: \"))\n",
        "\n",
        "print(f\"a media dos numeros ate o 0, foi: {media}\")"
      ]
    }
  ]
}