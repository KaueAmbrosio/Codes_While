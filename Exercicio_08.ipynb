{
  "nbformat": 4,
  "nbformat_minor": 0,
  "metadata": {
    "colab": {
      "provenance": []
    },
    "kernelspec": {
      "name": "python3",
      "display_name": "Python 3"
    },
    "language_info": {
      "name": "python"
    }
  },
  "cells": [
    {
      "cell_type": "markdown",
      "source": [
        "Escreva um programa que solicite ao usuário que insira uma senha. O programa deve continuar solicitando a senha até que o usuário insira a senha correta."
      ],
      "metadata": {
        "id": "GVELrzJeMJEI"
      }
    },
    {
      "cell_type": "code",
      "execution_count": 3,
      "metadata": {
        "colab": {
          "base_uri": "https://localhost:8080/"
        },
        "id": "hPY7YcNfLbjW",
        "outputId": "05788d7e-2d16-40e3-b8af-ff3a3c7a8fdc"
      },
      "outputs": [
        {
          "output_type": "stream",
          "name": "stdout",
          "text": [
            "digite a senha: alvin\n",
            "Senha invalida, Digite novamente:\n",
            "digite a senha: manga\n",
            "Senha correta\n"
          ]
        }
      ],
      "source": [
        "# Define a senha correta\n",
        "# Solicita ao usuário que insira uma senha e armazena o valor\n",
        "# Entra em um loop while enquanto a senha inserida não for ig  # Se a senha inserida for diferente da senha correta, imp\n",
        "# Solicita novamente ao usuário que insira a senha e atual # Quando a senha inserida for igual à senha correta, imprime\n",
        "\n",
        "\n",
        "senha_certa = \"manga\"\n",
        "\n",
        "senha= input(\"digite a senha: \")\n",
        "while senha != senha_certa:\n",
        "  print(\"Senha invalida, Digite novamente:\")\n",
        "  senha= input(\"digite a senha: \")\n",
        "print(\"Senha correta.\")"
      ]
    }
  ]
}