{
  "nbformat": 4,
  "nbformat_minor": 0,
  "metadata": {
    "colab": {
      "provenance": []
    },
    "kernelspec": {
      "name": "python3",
      "display_name": "Python 3"
    },
    "language_info": {
      "name": "python"
    }
  },
  "cells": [
    {
      "cell_type": "markdown",
      "source": [
        "Escreva um programa que solicite ao usuário que insira um número e, em seguida, imprima a tabuada desse número até 10."
      ],
      "metadata": {
        "id": "W7okoUo9LPec"
      }
    },
    {
      "cell_type": "code",
      "execution_count": 1,
      "metadata": {
        "colab": {
          "base_uri": "https://localhost:8080/"
        },
        "id": "3cZSYaAOKP9c",
        "outputId": "98eee342-f00a-4ed8-c185-b1c88b5ee7df"
      },
      "outputs": [
        {
          "output_type": "stream",
          "name": "stdout",
          "text": [
            "Digite um numero, que queira saber a tabuada: 7\n",
            "7 X 1 = 7\n",
            "7 X 2 = 14\n",
            "7 X 3 = 21\n",
            "7 X 4 = 28\n",
            "7 X 5 = 35\n",
            "7 X 6 = 42\n",
            "7 X 7 = 49\n",
            "7 X 8 = 56\n",
            "7 X 9 = 63\n",
            "7 X 10 = 70\n"
          ]
        }
      ],
      "source": [
        "# Solicita ao usuário que insira um número e converte o valor\n",
        "# Inicializa a variável 'contador' com o valor 1\n",
        "# Imprime o cabeçalho indicando qual é a tabuada do número in\n",
        "# Entra em um loop while enquanto 'contador' for menor ou igua\n",
        "# Calcula o resultado da multiplicação entre 'numero' e 'c\n",
        "# Imprime a expressão da tabuada ('numero' x 'contador' =   # Incrementa o valor de 'contador' em 1 para passar para a\n",
        "\n",
        "numero= int(input(\"Digite um numero, que queira saber a tabuada: \"))\n",
        "contador= 1\n",
        "\n",
        "while contador <= 10:\n",
        "  resultado = numero * contador\n",
        "  print(f\"{numero} X {contador} = {resultado}\")\n",
        "  contador += 1"
      ]
    }
  ]
}