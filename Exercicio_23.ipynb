{
  "nbformat": 4,
  "nbformat_minor": 0,
  "metadata": {
    "colab": {
      "provenance": []
    },
    "kernelspec": {
      "name": "python3",
      "display_name": "Python 3"
    },
    "language_info": {
      "name": "python"
    }
  },
  "cells": [
    {
      "cell_type": "markdown",
      "source": [
        "12. Em uma eleição presidencial existem quatro candidatos. Os votos são informados por meio de código.\n",
        "\n",
        "Os códigos utilizados são:\n",
        "\n",
        "1, 2, 3, 4 - Votos para os respectivos candidatos\n",
        "\n",
        "(você deve montar a tabela ex: 1 - Jose/ 2- João/etc)\n",
        "\n",
        "5 - Voto Nulo\n",
        "\n",
        "6 - Voto em Branco\n",
        "\n",
        "Faça um programa que calcule e mostre:\n",
        "\n",
        "O total de votos para cada candidato;\n",
        "\n",
        "O total de votos nulos;\n",
        "\n",
        "O total de votos em branco;\n",
        "\n",
        "A percentagem de votos nulos sobre o total de votos;\n",
        "\n",
        "A percentagem de votos em branco sobre o total de votos.\n",
        "\n",
        "Para finalizar o conjunto de votos tem-se o valor zero."
      ],
      "metadata": {
        "id": "KCepVnq4864C"
      }
    },
    {
      "cell_type": "code",
      "source": [
        "guilerme = 0\n",
        "millena = 0\n",
        "gaby = 0\n",
        "caique = 0\n",
        "voto_nulo = 0\n",
        "voto_branco = 0\n",
        "\n",
        "print(\"-\" * 30)\n",
        "print(\"   ELEICAO - 2024   \")\n",
        "print(\" Guilerme- 1\\n Millena- 2\\n Gaby- 3\\n Caique- 4\\n Votar nulo- 5\\n Voto Branco- 6\")\n",
        "print(\"-\" * 30)\n",
        "\n",
        "print(\"Digite 0 quando chegar ao fim da operacao.\")\n",
        "print(\"-\" * 30)\n",
        "\n",
        "total_votos = 0\n",
        "voto = float(input(\"Digite seu voto: \"))\n",
        "\n",
        "while voto != 0:\n",
        " total_votos += 1\n",
        " if voto == 1:\n",
        "    guilerme += 1\n",
        " elif voto == 2:\n",
        "  millena += 1\n",
        " elif voto == 3:\n",
        "  gaby += 1\n",
        " elif voto == 4:\n",
        "  caique += 1\n",
        " elif voto == 5:\n",
        "  voto_nulo += 1\n",
        " elif voto == 6:\n",
        "  voto_branco += 1\n",
        "\n",
        " voto = float(input(\"Digite seu voto: \"))\n",
        "\n",
        "media_nulo = voto_nulo / total_votos * 100\n",
        "media_branco = voto_branco / total_votos * 100\n",
        "\n",
        "print(\"-\" * 30)\n",
        "print(f\"Total de votos: {total_votos}\")\n",
        "print(\"-\" * 30)\n",
        "print(f\"Total de votos de Guilerme: {guilerme}\\nTotal de votos de Millena: {millena}\\nTotal de votos de Gaby: {gaby}\\nTotal de votos de Caique: {caique}\\nTotal de votos nulos: {voto_nulo}\\nTotal de votos em branco: {voto_branco}\")\n",
        "print(\"-\" * 30)\n",
        "print(f\"A média de votos nulos em relação ao total de votos da eleição foi: {media_nulo:.2f}\")\n",
        "print(f\"A média de votos brancos em relação ao total de votos da eleição foi: {media_branco:.2f}\")\n",
        "print(\"-\" * 30)\n"
      ],
      "metadata": {
        "colab": {
          "base_uri": "https://localhost:8080/"
        },
        "id": "4hcn5d0HHVvr",
        "outputId": "e6070273-7b53-4763-8fc0-703e148d2989"
      },
      "execution_count": 48,
      "outputs": [
        {
          "output_type": "stream",
          "name": "stdout",
          "text": [
            "------------------------------\n",
            "   ELEICAO - 2024   \n",
            " Guilerme- 1\n",
            " Millena- 2\n",
            " Gaby- 3\n",
            " Caique- 4\n",
            " Votar nulo- 5\n",
            " Voto Branco- 6\n",
            "------------------------------\n",
            "Digite 0 quando chegar ao fim da operacao.\n",
            "------------------------------\n",
            "Digite seu voto: 6\n",
            "Digite seu voto: 5\n",
            "Digite seu voto: 6\n",
            "Digite seu voto: 5\n",
            "Digite seu voto: 6\n",
            "Digite seu voto: 5\n",
            "Digite seu voto: 6\n",
            "Digite seu voto: 5\n",
            "Digite seu voto: 6\n",
            "Digite seu voto: 5\n",
            "Digite seu voto: 1\n",
            "Digite seu voto: 2\n",
            "Digite seu voto: 3\n",
            "Digite seu voto: 2\n",
            "Digite seu voto: 4\n",
            "Digite seu voto: 3\n",
            "Digite seu voto: 4\n",
            "Digite seu voto: 2\n",
            "Digite seu voto: 3\n",
            "Digite seu voto: 4\n",
            "Digite seu voto: 0\n",
            "------------------------------\n",
            "Total de votos: 20\n",
            "------------------------------\n",
            "Total de votos de Guilerme: 1\n",
            "Total de votos de Millena: 3\n",
            "Total de votos de Gaby: 3\n",
            "Total de votos de Caique: 3\n",
            "Total de votos nulos: 5\n",
            "Total de votos em branco: 5\n",
            "------------------------------\n",
            "A média de votos nulos em relação ao total de votos da eleição foi: 25.00\n",
            "A média de votos brancos em relação ao total de votos da eleição foi: 25.00\n",
            "------------------------------\n"
          ]
        }
      ]
    }
  ]
}