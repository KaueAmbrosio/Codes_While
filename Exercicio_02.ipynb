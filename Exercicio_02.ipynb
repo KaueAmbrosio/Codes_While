{
  "nbformat": 4,
  "nbformat_minor": 0,
  "metadata": {
    "colab": {
      "provenance": []
    },
    "kernelspec": {
      "name": "python3",
      "display_name": "Python 3"
    },
    "language_info": {
      "name": "python"
    }
  },
  "cells": [
    {
      "cell_type": "markdown",
      "source": [
        "Faça um programa que leia um nome de usuário e a sua senha e não aceite a senha igual ao nome do usuário, mostrando uma mensagem de erro e voltando a pedir as informações."
      ],
      "metadata": {
        "id": "fUgGXMQBF05x"
      }
    },
    {
      "cell_type": "code",
      "execution_count": null,
      "metadata": {
        "colab": {
          "base_uri": "https://localhost:8080/"
        },
        "id": "uNA4nB_WD-GG",
        "outputId": "b0bd7d43-5871-4c3b-b222-079095efd357"
      },
      "outputs": [
        {
          "output_type": "stream",
          "name": "stdout",
          "text": [
            "Digite seu nome: papo11\n",
            "Digite sua senha: papo11\n",
            "Valores iguais nao sao validos, Digite novamente: \n"
          ]
        }
      ],
      "source": [
        "nome= input(\"Digite seu nome: \")\n",
        "senha= input(\"Digite sua senha: \")\n",
        "\n",
        "while nome == senha:\n",
        "  print(\"Valores iguais nao sao validos, Digite novamente: \")\n",
        "  nome= input(\"Digite seu nome: \")\n",
        "  senha= int(input(\"Digite sua senha: \"))\n",
        "print(\"Login realizado\")\n"
      ]
    }
  ]
}