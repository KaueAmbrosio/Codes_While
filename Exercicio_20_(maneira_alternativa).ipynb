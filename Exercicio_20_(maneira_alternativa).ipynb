{
  "nbformat": 4,
  "nbformat_minor": 0,
  "metadata": {
    "colab": {
      "provenance": []
    },
    "kernelspec": {
      "name": "python3",
      "display_name": "Python 3"
    },
    "language_info": {
      "name": "python"
    }
  },
  "cells": [
    {
      "cell_type": "markdown",
      "source": [
        "9. A série de Fibonacci é formada pela sequência 1,1,2,3,5,8,13,21,34,55,... Faça um\n",
        "programa capaz de gerar a série até o n−ésimo termo."
      ],
      "metadata": {
        "id": "JW-02-ZWjRIz"
      }
    },
    {
      "cell_type": "code",
      "execution_count": 2,
      "metadata": {
        "colab": {
          "base_uri": "https://localhost:8080/"
        },
        "id": "7HFW_FAtix8j",
        "outputId": "705704cc-2c1c-4a05-e452-347183f5c603"
      },
      "outputs": [
        {
          "output_type": "stream",
          "name": "stdout",
          "text": [
            "Que termo voce deseja encontrar da sequencia de Fibonacci?: 11\n",
            "89\n"
          ]
        }
      ],
      "source": [
        "n = int(input(\"Que termo voce deseja encontrar da sequencia de Fibonacci?: \"))\n",
        "ultimo=1\n",
        "penultimo=1\n",
        "\n",
        "if n==1 or n==2:\n",
        " print(\"1\")\n",
        "else:\n",
        "    a=3\n",
        "while a <= n:\n",
        " termo = ultimo + penultimo\n",
        " penultimo = ultimo\n",
        " ultimo = termo\n",
        " a += 1\n",
        "print(termo)"
      ]
    }
  ]
}