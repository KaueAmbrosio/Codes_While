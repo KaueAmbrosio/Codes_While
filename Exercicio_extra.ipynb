{
  "nbformat": 4,
  "nbformat_minor": 0,
  "metadata": {
    "colab": {
      "provenance": []
    },
    "kernelspec": {
      "name": "python3",
      "display_name": "Python 3"
    },
    "language_info": {
      "name": "python"
    }
  },
  "cells": [
    {
      "cell_type": "code",
      "source": [
        "#Escreva um programa que solicite ao usuário que insira números até que ele insira um número igual ao anterior. Em seguida, imprima quantos números ele inseriu.\n",
        "\n",
        "contador = 0  # Inicializa o contador para contar o número de números únicos inseridos\n",
        "anterior = None  # Inicializa a variável anterior para armazenar o número anterior inserido pelo usuário. None é usado para indicar que ainda não houve nenhum número inserido anteriormente.\n",
        "numero = float(input(\"Por favor, insira um número (ou um número igual ao anterior para sair): \"))  # Solicita ao usuário que insira um número e o converte para ponto flutuante, armazenando-o na variável numero\n",
        "\n",
        "while numero != anterior:  # Inicia um loop while que continuará enquanto o número inserido for diferente do número anterior (ou seja, enquanto um número único for inserido)\n",
        "    anterior = numero  # Atualiza o valor da variável anterior para o número inserido atualmente, para comparar com o próximo número inserido\n",
        "    contador += 1  # Incrementa o contador para contar o número de números únicos inseridos\n",
        "    numero = float(input(\"Por favor, insira um número (ou um número igual ao anterior para sair): \"))  # Solicita ao usuário que insira outro número e o converte para ponto flutuante, atualizando a variável numero\n",
        "\n",
        "print(\"Você inseriu\", contador, \"números.\")  # Quando o usuário insere um número igual ao anterior ou decide sair, o loop é interrompido e o programa imprime o número de números únicos inseridos"
      ],
      "metadata": {
        "id": "TlfuTpVPgfTI"
      },
      "execution_count": null,
      "outputs": []
    }
  ]
}