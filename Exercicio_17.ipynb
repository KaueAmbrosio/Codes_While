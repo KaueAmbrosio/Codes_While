{
  "nbformat": 4,
  "nbformat_minor": 0,
  "metadata": {
    "colab": {
      "provenance": []
    },
    "kernelspec": {
      "name": "python3",
      "display_name": "Python 3"
    },
    "language_info": {
      "name": "python"
    }
  },
  "cells": [
    {
      "cell_type": "markdown",
      "source": [
        "6. Supondo que a população de um país A seja da ordem de 80000 habitantes com\n",
        "uma taxa anual de crescimento de 3% e que a população de B seja 200000\n",
        "habitantes com uma taxa de crescimento de 1.5%. Faça um programa que calcule e\n",
        "escreva o número de anos necessários para que a população do país A ultrapasse\n",
        "ou iguale a população do país B, mantidas as taxas de crescimento."
      ],
      "metadata": {
        "id": "h7KW6c9Gjdq-"
      }
    },
    {
      "cell_type": "code",
      "source": [
        "A= 80000\n",
        "B= 200000\n",
        "ano= 0\n",
        "\n",
        "while A <= B:\n",
        "  A += A * 0.03\n",
        "  B += B * 0.015\n",
        "  ano += 1\n",
        "\n",
        "print(f\"O pais A ultrapassou o pais B em: {ano} anos. \")"
      ],
      "metadata": {
        "colab": {
          "base_uri": "https://localhost:8080/"
        },
        "id": "zDdUlGs-gnAd",
        "outputId": "1173dd6d-a525-49f1-e48b-379c7b038c41"
      },
      "execution_count": 6,
      "outputs": [
        {
          "output_type": "stream",
          "name": "stdout",
          "text": [
            "O pais A ultrapassou o pais B em: 63 anos. \n"
          ]
        }
      ]
    }
  ]
}