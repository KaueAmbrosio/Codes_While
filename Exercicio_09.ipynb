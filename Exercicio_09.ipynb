{
  "nbformat": 4,
  "nbformat_minor": 0,
  "metadata": {
    "colab": {
      "provenance": []
    },
    "kernelspec": {
      "name": "python3",
      "display_name": "Python 3"
    },
    "language_info": {
      "name": "python"
    }
  },
  "cells": [
    {
      "cell_type": "markdown",
      "source": [
        "Escreva um programa que calcule a média de uma lista de números fornecida\n",
        "pelo usuário."
      ],
      "metadata": {
        "id": "DOMuH1xJZmgO"
      }
    },
    {
      "cell_type": "code",
      "execution_count": 13,
      "metadata": {
        "colab": {
          "base_uri": "https://localhost:8080/"
        },
        "id": "thLw7NC7ZJwp",
        "outputId": "ca320724-2302-45d8-b204-6e0783f70a97"
      },
      "outputs": [
        {
          "output_type": "stream",
          "name": "stdout",
          "text": [
            "Digite qual o limite de itens da sua lista: 5\n",
            "Digite o 1 valor da lista: 5\n",
            "Digite o 2 valor da lista: 5\n",
            "Digite o 3 valor da lista: 5\n",
            "Digite o 4 valor da lista: 5\n",
            "Digite o 5 valor da lista: 5\n",
            "A soma dos numeros foi: 25\n",
            "A media dos numeros da sua lista foi: 5.0\n"
          ]
        }
      ],
      "source": [
        "soma= 0\n",
        "i= 0\n",
        "limite= int(input(\"Digite qual o limite de itens da sua lista: \"))\n",
        "\n",
        "while i in range(limite):\n",
        "  n= int(input(f\"Digite o {i+1} valor da lista: \"))\n",
        "  i += 1\n",
        "  soma += n\n",
        "  media = soma/limite\n",
        "\n",
        "print(f\"A soma dos numeros foi: {soma}\")\n",
        "print(f\"A media dos numeros da sua lista foi: {media}\")"
      ]
    }
  ]
}