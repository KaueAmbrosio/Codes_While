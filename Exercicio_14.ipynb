{
  "nbformat": 4,
  "nbformat_minor": 0,
  "metadata": {
    "colab": {
      "provenance": []
    },
    "kernelspec": {
      "name": "python3",
      "display_name": "Python 3"
    },
    "language_info": {
      "name": "python"
    }
  },
  "cells": [
    {
      "cell_type": "markdown",
      "source": [
        "3. Faça um programa que leia um nome de usuário e a sua senha e não aceite a\n",
        "senha igual ao nome do usuário, mostrando uma mensagem de erro e voltando a\n",
        "pedir as informações."
      ],
      "metadata": {
        "id": "DOMuH1xJZmgO"
      }
    },
    {
      "cell_type": "code",
      "source": [
        "nome= input(\"Digite seu nome: \")\n",
        "senha= input(\"Digite sua senha: \")\n",
        "\n",
        "while nome == senha:\n",
        "  print(\"Valores iguais nao sao validos, Digite novamente: \")\n",
        "  nome= input(\"Digite seu nome: \")\n",
        "  senha= int(input(\"Digite sua senha: \"))\n",
        "print(\"Login realizado\")"
      ],
      "metadata": {
        "colab": {
          "base_uri": "https://localhost:8080/"
        },
        "id": "75tFcI6ce4yt",
        "outputId": "8778b45d-22bd-4a89-91b1-fcf4b7a9ad65"
      },
      "execution_count": null,
      "outputs": [
        {
          "output_type": "stream",
          "name": "stdout",
          "text": [
            "Digite seu nome: kaue\n",
            "Digite sua senha: kaue\n",
            "Valores iguais nao sao validos, Digite novamente: \n"
          ]
        }
      ]
    }
  ]
}