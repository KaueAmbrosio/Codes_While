{
  "nbformat": 4,
  "nbformat_minor": 0,
  "metadata": {
    "colab": {
      "provenance": []
    },
    "kernelspec": {
      "name": "python3",
      "display_name": "Python 3"
    },
    "language_info": {
      "name": "python"
    }
  },
  "cells": [
    {
      "cell_type": "markdown",
      "source": [
        "11. O cardápio de uma lanchonete é o seguinte:\n",
        "Especificação Código Preço\n",
        "\n",
        "Cachorro Quente 100 R$ 1,20\n",
        "\n",
        "Bauru Simples 101 R$ 1,30\n",
        "\n",
        "Bauru com ovo 102 R$ 1,50\n",
        "\n",
        "Hambúrguer 103 R$ 1,20\n",
        "\n",
        "Cheeseburguer 104 R$ 1,30\n",
        "\n",
        "Refrigerante 105 R$ 1,00\n",
        "\n",
        "Faça um programa que leia o código dos itens pedidos e as quantidades desejadas.\n",
        "\n",
        "Calcule e mostre o valor a ser pago por item (preço * quantidade) e o total geral do pedido.\n",
        "\n",
        "Considere que o cliente deve informar quando o pedido deve ser encerrado."
      ],
      "metadata": {
        "id": "aQBmtAo_nveD"
      }
    },
    {
      "cell_type": "code",
      "execution_count": 109,
      "metadata": {
        "colab": {
          "base_uri": "https://localhost:8080/"
        },
        "id": "xEEksMCOnAfT",
        "outputId": "a9c2453b-7d1e-4b5d-f764-088cc13b3aab"
      },
      "outputs": [
        {
          "output_type": "stream",
          "name": "stdout",
          "text": [
            "   BEM VINDO AO CAI-DINHO    \n",
            "    Faca ja seu pedido!       \n",
            "------------------------------\n",
            "Cachorro Quente 100 - R$ 1,20\n",
            "Bauru Simples 101 - R$ 1,30\n",
            "Bauru com ovo 102 - R$ 1,50\n",
            "Hambúrguer 103 - R$ 1,20\n",
            "Cheeseburguer - 104 R$ 1,30\n",
            "Refrigerante 105 - R$ 1,00\n",
            "------------------------------\n",
            "Digite o codigo do seu pedido: 100\n",
            "Quantos produtos deseja pedir: 2\n",
            "O total deste pedido foi: 2.4\n",
            "Deseja encerrar por aqui? {sim/nao}: nao\n",
            "Digite o codigo do seu pedido: 105\n",
            "Quantos produtos deseja pedir: 5\n",
            "O total deste pedido foi: 5.0\n",
            "Deseja encerrar por aqui? {sim/nao}: sim\n",
            "------------------------------\n",
            "Valor a ser pago: R$7.40\n"
          ]
        }
      ],
      "source": [
        "valores = {\n",
        "    100: 1.20,\n",
        "    101: 1.30,\n",
        "    102: 1.50,\n",
        "    103: 1.20,\n",
        "    104: 1.30,\n",
        "    105: 1.00,\n",
        "}\n",
        "\n",
        "print(\"   BEM VINDO AO CAI-DINHO    \")\n",
        "print(\"    Faca ja seu pedido!       \")\n",
        "print(\"-\" * 30)\n",
        "print(\"Cachorro Quente 100 - R$ 1,20\\nBauru Simples 101 - R$ 1,30\\nBauru com ovo 102 - R$ 1,50\\nHambúrguer 103 - R$ 1,20\\nCheeseburguer - 104 R$ 1,30\\nRefrigerante 105 - R$ 1,00\")\n",
        "print(\"-\" * 30)\n",
        "############################################################\n",
        "total= 0\n",
        "\n",
        "while True:\n",
        "  codigo= int(input(\"Digite o codigo do seu pedido: \"))\n",
        "  if codigo in valores:\n",
        "   quantidade= int(input(\"Quantos produtos deseja pedir: \"))\n",
        "   valor_final= valores[codigo] * quantidade\n",
        "   total += valor_final\n",
        "   print(f\"O total deste pedido foi: {valor_final}\")\n",
        "  else:\n",
        "        print(\"Nao identificado.\")\n",
        "  continuar = input(\"Deseja encerrar por aqui? {sim/nao}: \")\n",
        "  if continuar == \"sim\" or continuar == \"s\":\n",
        "     break\n",
        "print(\"-\" * 30)\n",
        "print(f\"Valor a ser pago: R${total:.2f}\")\n",
        "#Nao estava conseguindo realizar o codigo, entao pesquisei e achei a funcao \"valores\" e com ela consegui terminar o codigo, um nova aprendizado, espero nao ter problema"
      ]
    }
  ]
}