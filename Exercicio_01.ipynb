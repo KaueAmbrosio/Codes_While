{
  "nbformat": 4,
  "nbformat_minor": 0,
  "metadata": {
    "colab": {
      "provenance": []
    },
    "kernelspec": {
      "name": "python3",
      "display_name": "Python 3"
    },
    "language_info": {
      "name": "python"
    }
  },
  "cells": [
    {
      "cell_type": "markdown",
      "source": [
        "Faca um programa que peca uma nota, entre zero e dez. mostre uma mensagem caso o valor seja invalido e continue pedindo ate que o usuario informe um valor valido."
      ],
      "metadata": {
        "id": "FTe3EKUzAE4_"
      }
    },
    {
      "cell_type": "code",
      "execution_count": null,
      "metadata": {
        "colab": {
          "base_uri": "https://localhost:8080/"
        },
        "id": "tN5DQQUb5pw8",
        "outputId": "7d102336-457e-4c44-d7e2-a8786f38a7a6"
      },
      "outputs": [
        {
          "output_type": "stream",
          "name": "stdout",
          "text": [
            "digite uma nota entre zero e dez: 11\n",
            "invalido, digite novamente \n"
          ]
        }
      ],
      "source": [
        "nota = float(input(\"digite uma nota entre zero e dez: \"))\n",
        "while nota > 10 or nota < 0:\n",
        "  print(\"invalido, digite novamente \")\n",
        "  nota = float(input(\"Digite um valor valido: \"))\n",
        "print(\"Valor valido.\")"
      ]
    }
  ]
}