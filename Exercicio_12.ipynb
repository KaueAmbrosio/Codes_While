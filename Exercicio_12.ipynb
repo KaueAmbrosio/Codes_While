{
  "nbformat": 4,
  "nbformat_minor": 0,
  "metadata": {
    "colab": {
      "provenance": []
    },
    "kernelspec": {
      "name": "python3",
      "display_name": "Python 3"
    },
    "language_info": {
      "name": "python"
    }
  },
  "cells": [
    {
      "cell_type": "markdown",
      "source": [
        "1. Faça um programa que peça uma nota, entre zero e dez. Mostre uma mensagem\n",
        "caso o valor seja inválido e continue pedindo até que o usuário informe um valor\n",
        "válido."
      ],
      "metadata": {
        "id": "DOMuH1xJZmgO"
      }
    },
    {
      "cell_type": "code",
      "execution_count": 14,
      "metadata": {
        "colab": {
          "base_uri": "https://localhost:8080/"
        },
        "id": "thLw7NC7ZJwp",
        "outputId": "d00c8c0a-a99a-4311-ee0a-62ea0ae6e863"
      },
      "outputs": [
        {
          "output_type": "stream",
          "name": "stdout",
          "text": [
            "digite uma nota entre zero e dez: 67\n",
            "invalido, digite novamente \n",
            "Digite um valor valido: 10\n",
            "Valor valido.\n"
          ]
        }
      ],
      "source": [
        "nota = float(input(\"digite uma nota entre zero e dez: \"))\n",
        "while nota > 10 or nota < 0:\n",
        "  print(\"invalido, digite novamente \")\n",
        "  nota = float(input(\"Digite um valor valido: \"))\n",
        "print(\"Valor valido.\")"
      ]
    }
  ]
}