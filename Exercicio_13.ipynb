{
  "nbformat": 4,
  "nbformat_minor": 0,
  "metadata": {
    "colab": {
      "provenance": []
    },
    "kernelspec": {
      "name": "python3",
      "display_name": "Python 3"
    },
    "language_info": {
      "name": "python"
    }
  },
  "cells": [
    {
      "cell_type": "markdown",
      "source": [
        "2. Faça um programa que calcule o mostre a média aritmética de N notas."
      ],
      "metadata": {
        "id": "DOMuH1xJZmgO"
      }
    },
    {
      "cell_type": "code",
      "execution_count": null,
      "metadata": {
        "id": "thLw7NC7ZJwp"
      },
      "outputs": [],
      "source": [
        "soma= 0\n",
        "contador= 0\n",
        "\n",
        "limite= int(input(\"Quantas notas voce deseja nos informar?: \"))\n",
        "while contador in range(limite):\n",
        "  nota= int(input(f\"Digite a {contador+1} nota: \"))\n",
        "  contador += 1\n",
        "\n",
        "  soma += nota\n",
        "  media= soma/limite\n",
        "\n",
        "print(f\"A media aritmetica das suas notas e: {media}\")"
      ]
    }
  ]
}