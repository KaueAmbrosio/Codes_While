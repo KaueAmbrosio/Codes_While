{
  "nbformat": 4,
  "nbformat_minor": 0,
  "metadata": {
    "colab": {
      "provenance": []
    },
    "kernelspec": {
      "name": "python3",
      "display_name": "Python 3"
    },
    "language_info": {
      "name": "python"
    }
  },
  "cells": [
    {
      "cell_type": "markdown",
      "source": [
        "10. O Sr. Manoel Joaquim expandiu seus negócios para além dos negócios de 1,99 e\n",
        "agora possui uma loja de conveniências. Faça um programa que implemente uma\n",
        "caixa registradora rudimentar.\n",
        "\n",
        " O programa deverá receber um número desconhecido de valores referentes\n",
        "aos preços das mercadorias. Um valor zero deve ser informado pelo\n",
        "operador para indicar o final da compra.\n",
        "\n",
        " O programa deve então mostrar o total da compra e perguntar o valor em\n",
        "dinheiro que o cliente forneceu, para então calcular e mostrar o valor do\n",
        "troco. Após esta operação, o programa deverá voltar ao ponto inicial, para\n",
        "registrar a próxima compra.\n",
        "\n",
        " A saída deve ser conforme o exemplo abaixo:\n",
        "\n",
        " Lojas Tabajara\n",
        "\n",
        " Produto 1: R$ 2.20\n",
        "\n",
        " Produto 2: R$ 5.80\n",
        "\n",
        " Produto 3: R$ 0\n",
        "\n",
        " Total: R$ 9.00\n",
        "\n",
        " Dinheiro: R$ 20.00\n",
        "\n",
        " Troco: R$ 11.00"
      ],
      "metadata": {
        "id": "bW4LafnVxybg"
      }
    },
    {
      "cell_type": "code",
      "source": [
        "print(\"_\" * 50 )\n",
        "print(\"          Lojas Tabajara       \")\n",
        "\n",
        "contador= 0\n",
        "soma= 0\n",
        "\n",
        "n = float(input(f\"Insira o valor da {contador+1} produto: R$ \"))\n",
        "while n != 0:\n",
        "  soma += n\n",
        "  contador += 1\n",
        "  n = float(input(f\"Insira o valor da {contador+1} produto: \"))\n",
        "print(\"_\" * 50 )\n",
        "print(f\"Valor total da compra: R${soma}\")\n",
        "print(\"_\" * 50 )\n",
        "din= float(input(\"Valor em dinheiro para pagar a compra: \"))\n",
        "troco= din-soma\n",
        "print(f\"Troco a ser devolvido: R${troco}\")\n",
        "print(\"_\" * 50 )\n",
        "# N consegui fazer o retorno :("
      ],
      "metadata": {
        "colab": {
          "base_uri": "https://localhost:8080/"
        },
        "id": "xdj_tFgY-ewa",
        "outputId": "767948fc-0b63-4162-8d96-a11043556b68"
      },
      "execution_count": 28,
      "outputs": [
        {
          "output_type": "stream",
          "name": "stdout",
          "text": [
            "__________________________________________________\n",
            "          Lojas Tabajara       \n",
            "Insira o valor da 1 produto: R$ 100\n",
            "Insira o valor da 2 produto: 500\n",
            "Insira o valor da 3 produto: 200\n",
            "Insira o valor da 4 produto: 0\n",
            "__________________________________________________\n",
            "Valor total da compra: R$800.0\n",
            "__________________________________________________\n",
            "Valor em dinheiro para pagar a compra: 1000\n",
            "Troco a ser devolvido: R$200.0\n",
            "__________________________________________________\n"
          ]
        }
      ]
    }
  ]
}