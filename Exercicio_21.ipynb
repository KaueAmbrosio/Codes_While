{
  "nbformat": 4,
  "nbformat_minor": 0,
  "metadata": {
    "colab": {
      "provenance": []
    },
    "kernelspec": {
      "name": "python3",
      "display_name": "Python 3"
    },
    "language_info": {
      "name": "python"
    }
  },
  "cells": [
    {
      "cell_type": "code",
      "execution_count": null,
      "metadata": {
        "colab": {
          "base_uri": "https://localhost:8080/"
        },
        "id": "Ls_JGhMk5mqU",
        "outputId": "b0dcadc6-5675-4ada-d4ef-5d8e105c05df"
      },
      "outputs": [
        {
          "output_type": "stream",
          "name": "stdout",
          "text": [
            "__________________________________________________\n",
            "         Bem vindo a Lojas Tabajara!      \n",
            "Insira o valor do 1 produto: R$ 100\n",
            "Insira o valor do 2 produto: R$ 50\n",
            "Insira o valor do 3 produto: R$ 78\n",
            "Insira o valor do 4 produto: R$ 0\n",
            "__________________________________________________\n",
            "Valor total da compra: R$228.00\n",
            "__________________________________________________\n",
            "Valor em dinheiro para pagar a compra: 300\n",
            "Troco a ser devolvido: R$72.00\n",
            "Obrigado por comprar com tabajara :) \n",
            "__________________________________________________\n"
          ]
        }
      ],
      "source": [
        "while True:\n",
        " print(\"_\" * 50 )\n",
        " print(\"         Bem vindo a Lojas Tabajara!      \")\n",
        "\n",
        " contador= 0\n",
        " soma= 0\n",
        "\n",
        " n = float(input(f\"Insira o valor do {contador+1} produto: R$ \"))\n",
        " while n != 0:\n",
        "  soma += n\n",
        "  contador += 1\n",
        "  n = float(input(f\"Insira o valor do {contador+1} produto: R$ \"))\n",
        " print(\"_\" * 50 )\n",
        " print(f\"Valor total da compra: R${soma:.2f}\")\n",
        " print(\"_\" * 50 )\n",
        " din= float(input(\"Valor em dinheiro para pagar a compra: \"))\n",
        " troco= din-soma\n",
        " print(f\"Troco a ser devolvido: R${troco:.2f}\")\n",
        " print(\"Obrigado por comprar com tabajara :) \")\n",
        " print(\"_\" * 50 )\n",
        "\n",
        " continuar = input(\"Ola, Deseja iniciar um pagamento? (s/n): \")\n",
        " if continuar != \"s\" and continuar != \"sim\":\n",
        "   print(\"Entao chegamos ao fim. \")\n",
        "   break"
      ]
    }
  ]
}