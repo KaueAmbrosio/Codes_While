{
  "nbformat": 4,
  "nbformat_minor": 0,
  "metadata": {
    "colab": {
      "provenance": []
    },
    "kernelspec": {
      "name": "python3",
      "display_name": "Python 3"
    },
    "language_info": {
      "name": "python"
    }
  },
  "cells": [
    {
      "cell_type": "code",
      "execution_count": 6,
      "metadata": {
        "colab": {
          "base_uri": "https://localhost:8080/"
        },
        "id": "kfbxfV0QIhZX",
        "outputId": "53137509-e7de-407b-d913-20185d37c60f"
      },
      "outputs": [
        {
          "output_type": "stream",
          "name": "stdout",
          "text": [
            "Digite um numero: 6\n",
            "1\n",
            "2\n",
            "3\n",
            "4\n",
            "5\n",
            "6\n"
          ]
        }
      ],
      "source": [
        "# Solicita ao usuário que insira um número e converte o val\n",
        "# Inicializa a variável 'contador' com o valor 1\n",
        "# Entra em um loop while enquanto 'contador' for menor ou i\n",
        "# Imprime o valor atual de 'contador'\n",
        "# Incrementa o valor de 'contador' em 1 para que o próx\n",
        "\n",
        "numero= int(input(\"Digite um numero: \"))\n",
        "contador= 1\n",
        "while contador <= numero:\n",
        "  print(f\"{contador}\")\n",
        "  contador += 1"
      ]
    }
  ]
}