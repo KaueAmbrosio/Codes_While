{
  "nbformat": 4,
  "nbformat_minor": 0,
  "metadata": {
    "colab": {
      "provenance": []
    },
    "kernelspec": {
      "name": "python3",
      "display_name": "Python 3"
    },
    "language_info": {
      "name": "python"
    }
  },
  "cells": [
    {
      "cell_type": "markdown",
      "source": [
        "9. A série de Fibonacci é formada pela sequência 1,1,2,3,5,8,13,21,34,55,... Faça um programa capaz de gerar a série até o n−ésimo termo."
      ],
      "metadata": {
        "id": "2xNVaYBcaVtb"
      }
    },
    {
      "cell_type": "code",
      "source": [
        "n = int(input(\"Deseja ver a sequencia de qual numero?: \"))\n",
        "a= 0\n",
        "b = 1\n",
        "while a < n:\n",
        " print(f\"{a}\")\n",
        " a, b = b, a+b"
      ],
      "metadata": {
        "id": "nVMXitE5ZHVV"
      },
      "execution_count": null,
      "outputs": []
    }
  ]
}