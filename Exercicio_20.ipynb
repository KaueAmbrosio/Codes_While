{
  "nbformat": 4,
  "nbformat_minor": 0,
  "metadata": {
    "colab": {
      "provenance": []
    },
    "kernelspec": {
      "name": "python3",
      "display_name": "Python 3"
    },
    "language_info": {
      "name": "python"
    }
  },
  "cells": [
    {
      "cell_type": "markdown",
      "source": [
        "9. A série de Fibonacci é formada pela sequência 1,1,2,3,5,8,13,21,34,55,... Faça um\n",
        "programa capaz de gerar a série até o n−ésimo termo."
      ],
      "metadata": {
        "id": "bW4LafnVxybg"
      }
    },
    {
      "cell_type": "code",
      "source": [
        "n = int(input(\"Que termo deseja encontrar: \"))\n",
        "ultimo=1\n",
        "penultimo=1\n",
        "\n",
        "if n==1 or n==2:\n",
        " print(\"1\")\n",
        "else:\n",
        "    a=3\n",
        "while a <= n:\n",
        " serie = ultimo + penultimo\n",
        " penultimo = ultimo\n",
        " ultimo = serie\n",
        " a += 1\n",
        "print(serie)"
      ],
      "metadata": {
        "id": "_maD9yPZ5iuu"
      },
      "execution_count": null,
      "outputs": []
    }
  ]
}