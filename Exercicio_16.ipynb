{
  "nbformat": 4,
  "nbformat_minor": 0,
  "metadata": {
    "colab": {
      "provenance": []
    },
    "kernelspec": {
      "name": "python3",
      "display_name": "Python 3"
    },
    "language_info": {
      "name": "python"
    }
  },
  "cells": [
    {
      "cell_type": "markdown",
      "source": [],
      "metadata": {
        "id": "9NAPiBh5xWNs"
      }
    },
    {
      "cell_type": "code",
      "source": [
        "print(\"-\" * 80)\n",
        "print(\"LOGIN - GABY.COM.BR\")\n",
        "print(\"-\" * 80)\n",
        "\n",
        "nome= input(\"Digite seu nome: \")\n",
        "while len(nome) <4:\n",
        "  print(\"                TENTE NOVAMENTE                \")\n",
        "  nome= input(\"Digite um nome com mais de 3 caracteres: \")\n",
        "else:\n",
        " print(\"Nome valido!\")\n",
        "print(\"-\" * 80)\n",
        "idade= float(input(\"Digite sua idade: \"))\n",
        "while idade < 0 or idade > 150:\n",
        "  print(\"      TENTE NOVAMENTE           \")\n",
        "  idade= input(\"Digite uma idade valida: \")\n",
        "else:\n",
        "  print(\"Idade valida!\")\n",
        "\n",
        "print(\"-\" * 80)\n",
        "salario= float(input(\"Digite seu salario atual: \"))\n",
        "while salario <= 0:\n",
        "  print(\"                       FALHA              \")\n",
        "  salario= input(\"Salario nao atende os requisitos, digite novamente: \")\n",
        "else:\n",
        " print(\"Salario valido!\")\n",
        " print(\"-\" * 80)\n",
        " ########################\n",
        " sexo= input(\"Digite seu sexo, referente a: (f)- feminino e (m)- masculino: \")\n",
        "while sexo != \"f\" and sexo != \"F\" and sexo != \"m\" and sexo != \"M\":\n",
        "  print(\"     TENTE NOVAMENTE     \")\n",
        "  sexo = input(\"Digite novamente: \")\n",
        "else:\n",
        " print(\"Genero valido!\")\n",
        " ################\n",
        "print(\"-\" * 80)\n",
        "es= input(\"Informe seu  Estado Civil: 's', 'c', 'v', 'd': \")\n",
        "while es != \"s\" and es != \"c\" and es != \"v\" and es != \"d\":\n",
        "    print(\"              FALHA                              \")\n",
        "    print(\"Estado civil nao identificado, digite novamente: \")\n",
        "if es == \"s\":\n",
        "  print(\"Solteiro - confirmado. \")\n",
        "elif es == \"c\":\n",
        "  print(\"Casado - confirmado. \")\n",
        "elif es == \"v\":\n",
        "  print(\"Viuvo(a) - confirmado. \")\n",
        "elif es == \"d\":\n",
        "  print(\"Divorciado(a) - confirmado. \")\n",
        "else:\n",
        "  print(\"n identificado.\")\n",
        "print(\"-\" * 80)\n",
        "print(\"Login concluido.\")"
      ],
      "metadata": {
        "colab": {
          "base_uri": "https://localhost:8080/"
        },
        "id": "K0pM-TE3xnK2",
        "outputId": "0606fca3-b380-4784-fa91-122c5d96b486"
      },
      "execution_count": 40,
      "outputs": [
        {
          "output_type": "stream",
          "name": "stdout",
          "text": [
            "--------------------------------------------------------------------------------\n",
            "LOGIN - GABY.COM.BR\n",
            "--------------------------------------------------------------------------------\n",
            "Digite seu nome: kaue\n",
            "Nome valido!\n",
            "--------------------------------------------------------------------------------\n",
            "Digite sua idade: 14\n",
            "Idade valida!\n",
            "--------------------------------------------------------------------------------\n",
            "Digite seu salario atual: 1200\n",
            "Salario valido!\n",
            "--------------------------------------------------------------------------------\n",
            "Digite seu sexo, referente a: (f)- feminino e (m)- masculino: m\n",
            "Genero valido!\n",
            "--------------------------------------------------------------------------------\n",
            "Informe seu  Estado Civil: 's', 'c', 'v', 'd': s\n",
            "Solteiro - confirmado. \n",
            "--------------------------------------------------------------------------------\n",
            "Login concluido.\n"
          ]
        }
      ]
    }
  ]
}