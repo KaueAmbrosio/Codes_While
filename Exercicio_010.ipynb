{
  "nbformat": 4,
  "nbformat_minor": 0,
  "metadata": {
    "colab": {
      "provenance": []
    },
    "kernelspec": {
      "name": "python3",
      "display_name": "Python 3"
    },
    "language_info": {
      "name": "python"
    }
  },
  "cells": [
    {
      "cell_type": "markdown",
      "source": [
        "Escreva um programa que solicite ao usuário que insira números até que ele\n",
        "insira o número 0. Em seguida, imprima a soma de todos os números inseridos."
      ],
      "metadata": {
        "id": "5cZNkNAkRdb2"
      }
    },
    {
      "cell_type": "code",
      "execution_count": 45,
      "metadata": {
        "colab": {
          "base_uri": "https://localhost:8080/"
        },
        "id": "Q1T_49hwOQf2",
        "outputId": "4d7a1878-807a-44b1-9bad-e9d434d9e56a"
      },
      "outputs": [
        {
          "output_type": "stream",
          "name": "stdout",
          "text": [
            "Insira o valor: 5\n",
            "Insira o valor: 9\n",
            "Insira o valor: 0\n",
            "a soma dos numeros ate o 0, foi: 14.0\n"
          ]
        }
      ],
      "source": [
        "# Inicializa a variável 'soma' para armazenar a soma dos núme\n",
        "# Solicita ao usuário que insira um número inicial e converte\n",
        "# Entra em um loop while enquanto o número inserido pelo usuá\n",
        "# Adiciona o número inserido à soma\n",
        "# Solicita ao usuário que insira outro número e atualiza o\n",
        "# Quando o usuário insere o número 0 para sair do loop, imprim\n",
        "\n",
        "soma= 0\n",
        "n = float(input(\"Insira o valor: \"))\n",
        "while n != 0:\n",
        "  soma += n\n",
        "  n = float(input(\"Insira o valor: \"))\n",
        "\n",
        "print(f\"a soma dos numeros ate o 0, foi: {soma}\")"
      ]
    }
  ]
}