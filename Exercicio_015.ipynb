{
  "nbformat": 4,
  "nbformat_minor": 0,
  "metadata": {
    "colab": {
      "provenance": []
    },
    "kernelspec": {
      "name": "python3",
      "display_name": "Python 3"
    },
    "language_info": {
      "name": "python"
    }
  },
  "cells": [
    {
      "cell_type": "markdown",
      "source": [
        "4. Um funcionário de uma empresa recebe aumento salarial anualmente.\n",
        "Sabe-se que: Esse funcionário foi contratado em 1995, com salário inicial de R$\n",
        "1.000,00; Em 1996 recebeu aumento de 1,5% sobre seu salário inicial; A partir de\n",
        "1997 (inclusive), os aumentos salariais sempre correspondem ao dobro do\n",
        "percentual do ano anterior. Faça um programa que determine o salário atual desse\n",
        "funcionário. Após concluir isto, altere o programa permitindo que o usuário digite o\n",
        "salário inicial do funcionário."
      ],
      "metadata": {
        "id": "DOMuH1xJZmgO"
      }
    },
    {
      "cell_type": "code",
      "source": [
        "salario1 = float(input(\"Digite o salário inicial do funcionário: \"))\n",
        "\n",
        "ano_inicial = 1995\n",
        "\n",
        "salario2 = salario1\n",
        "ano_atual = ano_inicial + 1\n",
        "percentual = 0.015\n",
        "\n",
        "while ano_atual <= 2024:\n",
        "    percentual *= 2\n",
        "    salario2 += salario2 * percentual\n",
        "    ano_atual += 1\n",
        "print(f\"O salário atual do funcionário é R${salario2}\")"
      ],
      "metadata": {
        "colab": {
          "base_uri": "https://localhost:8080/"
        },
        "id": "75tFcI6ce4yt",
        "outputId": "f30bc65b-db70-4f77-fdef-4bfa85b457f7"
      },
      "execution_count": 45,
      "outputs": [
        {
          "output_type": "stream",
          "name": "stdout",
          "text": [
            "Digite o salário inicial do funcionário: 1000\n",
            "O salário atual do funcionário é R$5.13969332387158e+86\n"
          ]
        }
      ]
    }
  ]
}