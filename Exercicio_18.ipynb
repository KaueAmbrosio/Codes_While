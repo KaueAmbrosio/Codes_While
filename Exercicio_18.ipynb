{
  "nbformat": 4,
  "nbformat_minor": 0,
  "metadata": {
    "colab": {
      "provenance": []
    },
    "kernelspec": {
      "name": "python3",
      "display_name": "Python 3"
    },
    "language_info": {
      "name": "python"
    }
  },
  "cells": [
    {
      "cell_type": "markdown",
      "source": [
        "Faça um programa que calcule o fatorial de um número inteiro fornecido pelo\n",
        "usuário. Ex.: 5!=5.4.3.2.1=120"
      ],
      "metadata": {
        "id": "bW4LafnVxybg"
      }
    },
    {
      "cell_type": "code",
      "execution_count": null,
      "metadata": {
        "id": "tnVakB3hxv48"
      },
      "outputs": [],
      "source": [
        "n = int(input(\"Digite um número: \"))\n",
        "fatorial = 1\n",
        "contador = 2\n",
        "while contador <= n:\n",
        "  fatorial = fatorial*contador\n",
        "  contador = contador+1\n",
        "print(f\"O valor de {n}! e: {fatorial}\")"
      ]
    }
  ]
}