{
  "nbformat": 4,
  "nbformat_minor": 0,
  "metadata": {
    "colab": {
      "provenance": []
    },
    "kernelspec": {
      "name": "python3",
      "display_name": "Python 3"
    },
    "language_info": {
      "name": "python"
    }
  },
  "cells": [
    {
      "cell_type": "code",
      "execution_count": 2,
      "metadata": {
        "colab": {
          "base_uri": "https://localhost:8080/"
        },
        "id": "IGjWf7lAIAPF",
        "outputId": "b5c9765e-283f-4292-d10a-cbaea7f60b7f"
      },
      "outputs": [
        {
          "output_type": "stream",
          "name": "stdout",
          "text": [
            "2\n",
            "4\n",
            "6\n",
            "8\n",
            "10\n",
            "12\n",
            "14\n",
            "16\n",
            "18\n",
            "20\n"
          ]
        }
      ],
      "source": [
        "# Inicializa a variável 'numero' com o valor 2\n",
        "# Entra em um loop while enquanto 'numero' for menor ou igual   # Imprime o valor atual de 'numero'\n",
        "# Incrementa o valor de 'numero' em 2 para que o próximo\n",
        "\n",
        "numero= 2\n",
        "while numero <= 20:\n",
        "  print(f\"{numero}\")\n",
        "  numero += 2"
      ]
    }
  ]
}