{
  "nbformat": 4,
  "nbformat_minor": 0,
  "metadata": {
    "colab": {
      "provenance": []
    },
    "kernelspec": {
      "name": "python3",
      "display_name": "Python 3"
    },
    "language_info": {
      "name": "python"
    }
  },
  "cells": [
    {
      "cell_type": "code",
      "execution_count": 1,
      "metadata": {
        "colab": {
          "base_uri": "https://localhost:8080/"
        },
        "id": "H95qH6MgJX4l",
        "outputId": "f4729512-fe93-4ca1-dda8-1bc2d71f9cae"
      },
      "outputs": [
        {
          "output_type": "stream",
          "name": "stdout",
          "text": [
            "Digite um numero: 10\n",
            "4\n",
            "6\n",
            "8\n",
            "10\n",
            "12\n"
          ]
        }
      ],
      "source": [
        "# Solicita ao usuário que insira um número e converte o valor\n",
        "# Inicializa a variável 'contador' com o valor 2 (primeiro núm\n",
        "# Entra em um loop while enquanto 'contador' for menor ou igua\n",
        "# Incrementa o valor de 'contador' em 2 para que o próximo\n",
        "# Imprime o valor atual de 'contador' (um número par)\n",
        "\n",
        "numero= int(input(\"Digite um numero: \"))\n",
        "contador=2\n",
        "\n",
        "while contador <= numero:\n",
        "  contador += 2\n",
        "  print(f\"{contador}\")\n"
      ]
    }
  ]
}