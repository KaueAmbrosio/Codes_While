{
  "nbformat": 4,
  "nbformat_minor": 0,
  "metadata": {
    "colab": {
      "provenance": []
    },
    "kernelspec": {
      "name": "python3",
      "display_name": "Python 3"
    },
    "language_info": {
      "name": "python"
    }
  },
  "cells": [
    {
      "cell_type": "code",
      "execution_count": 5,
      "metadata": {
        "colab": {
          "base_uri": "https://localhost:8080/"
        },
        "id": "WPeMBhE6Go9D",
        "outputId": "99d62c6b-a118-4875-9ed0-eac2aa3a225e"
      },
      "outputs": [
        {
          "output_type": "stream",
          "name": "stdout",
          "text": [
            "1\n",
            "2\n",
            "3\n",
            "4\n",
            "5\n",
            "6\n",
            "7\n",
            "8\n",
            "9\n",
            "10\n"
          ]
        }
      ],
      "source": [
        "# Inicializa a variável 'numero' com o valor 1\n",
        "# Entra em um loop while enquanto 'numero' for menor ou igual   # Imprime o valor atual de 'numero'\n",
        "# Incrementa o valor de 'numero' em 1 para que o loop pro Escreva um\n",
        "numero= 1\n",
        "\n",
        "while numero <= 10:\n",
        " print(f\"{numero}\")\n",
        " numero += 1"
      ]
    }
  ]
}