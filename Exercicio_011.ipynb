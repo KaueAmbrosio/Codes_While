{
  "nbformat": 4,
  "nbformat_minor": 0,
  "metadata": {
    "colab": {
      "provenance": []
    },
    "kernelspec": {
      "name": "python3",
      "display_name": "Python 3"
    },
    "language_info": {
      "name": "python"
    }
  },
  "cells": [
    {
      "cell_type": "markdown",
      "source": [
        "Escreva um programa que solicite ao usuário que insira números até que ele\n",
        "insira um número negativo. Em seguida, imprima o maior número inserido."
      ],
      "metadata": {
        "id": "DOMuH1xJZmgO"
      }
    },
    {
      "cell_type": "code",
      "execution_count": 7,
      "metadata": {
        "colab": {
          "base_uri": "https://localhost:8080/"
        },
        "id": "thLw7NC7ZJwp",
        "outputId": "0df31578-4c06-46b6-a08a-38a707298b3d"
      },
      "outputs": [
        {
          "output_type": "stream",
          "name": "stdout",
          "text": [
            "Insira um valor: 5\n",
            "Insira outro valor, este e positivo: 10\n",
            "Insira outro valor, este e positivo: 22\n",
            "Insira outro valor, este e positivo: -1\n",
            "O maior numero foi: 22.0\n"
          ]
        }
      ],
      "source": [
        "# Inicializa a variável 'maior_numero' com o menor valor possí\n",
        "# Solicita ao usuário que insira um número inicial e converte\n",
        "# Entra em um loop while enquanto o número inserido pelo usuá\n",
        "# Verifica se o número inserido é maior que o maior número\n",
        "# Se o número inserido for maior, atualiza o valor de\n",
        "# Solicita ao usuário que insira outro número e atualiza o\n",
        "# Verifica se algum número válido foi inserido (ou seja, se 'm\n",
        "# Se algum número válido foi inserido, imprime o maior núm\n",
        "# Se nenhum número válido foi inserido, imprime uma mensag\n",
        "\n",
        "maior_numero= 0\n",
        "n1= float(input(\"Insira um valor: \"))\n",
        "while n1 > 0:\n",
        "\n",
        " if n1 > maior_numero:\n",
        "    maior_numero = n1\n",
        "    n1= float(input(\"Insira outro valor, este e positivo: \"))\n",
        "\n",
        "print(f\"O maior numero foi: {maior_numero}\")"
      ]
    }
  ]
}